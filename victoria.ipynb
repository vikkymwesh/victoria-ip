{
 "cells": [
  {
   "cell_type": "code",
   "execution_count": 9,
   "metadata": {},
   "outputs": [
    {
     "name": "stdout",
     "output_type": "stream",
     "text": [
      "enter number of additional minutes: 0\n",
      "enter number of additional text messages: 0\n",
      "ksh 50.0\n"
     ]
    }
   ],
   "source": [
    "#cost of a cell phone plan including 20 minutes and 20 text messageS a month\n",
    "cost = 50\n",
    "minutes = int(input(\"enter number of additional minutes: \"))\n",
    "text = int(input(\"enter number of additional text messages: \"))\n",
    "#cost of any additional minute including vat\n",
    "cost_of_additional_minutes = 3.00*minutes*1.16\n",
    "#cost of any additional text including vat\n",
    "cost_of_additional_text = 2.00*text*1.16\n",
    "#total cost of any additional minute and text\n",
    "total_additional_cost = cost_of_additional_minutes + cost_of_additional_text\n",
    "#cost of cell phone plan of 20 minutes and 20 text messages a month including total cost\n",
    "#of additional minutes and texts\n",
    "total = cost + total_additional_cost\n",
    "#giving a condition\n",
    "if 'additional_cost':\n",
    "    print('ksh', total)\n",
    "#giving a condition\n",
    "else:\n",
    "    print('ksh', cost )"
   ]
  },
  {
   "cell_type": "code",
   "execution_count": null,
   "metadata": {},
   "outputs": [],
   "source": []
  }
 ],
 "metadata": {
  "kernelspec": {
   "display_name": "Python 3",
   "language": "python",
   "name": "python3"
  },
  "language_info": {
   "codemirror_mode": {
    "name": "ipython",
    "version": 3
   },
   "file_extension": ".py",
   "mimetype": "text/x-python",
   "name": "python",
   "nbconvert_exporter": "python",
   "pygments_lexer": "ipython3",
   "version": "3.7.6"
  }
 },
 "nbformat": 4,
 "nbformat_minor": 4
}
